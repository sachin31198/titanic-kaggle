{
 "cells": [
  {
   "cell_type": "code",
   "execution_count": 1,
   "metadata": {},
   "outputs": [],
   "source": [
    "from sklearn import tree\n",
    "from sklearn.metrics import accuracy_score\n",
    "from sklearn.ensemble import RandomForestClassifier\n",
    "import seaborn as sns\n",
    "import matplotlib.pyplot as plt\n",
    "%matplotlib inline\n",
    "import pandas as pd\n",
    "import numpy as np\n",
    "train=pd.read_csv('..\\train.csv')\n",
    "test=pd.read_csv('..\\\\test.csv')\n",
    "df = train.append(test, ignore_index=True)\n",
    "df.drop(columns=['Cabin'],inplace=True)"
   ]
  },
  {
   "cell_type": "code",
   "execution_count": 2,
   "metadata": {},
   "outputs": [
    {
     "name": "stdout",
     "output_type": "stream",
     "text": [
      "   Pclass  Survived\n",
      "0       1  0.629630\n",
      "1       2  0.472826\n",
      "2       3  0.242363\n",
      "\n",
      "\n",
      "\n",
      "      Sex  Survived\n",
      "0  female  0.742038\n",
      "1    male  0.188908\n",
      "\n",
      "\n",
      "\n",
      "   SibSp  Survived\n",
      "1      1  0.535885\n",
      "2      2  0.464286\n",
      "0      0  0.345395\n",
      "3      3  0.250000\n",
      "4      4  0.166667\n",
      "5      5  0.000000\n",
      "6      8  0.000000\n",
      "\n",
      "\n",
      "\n",
      "   Parch  Survived\n",
      "3      3  0.600000\n",
      "1      1  0.550847\n",
      "2      2  0.500000\n",
      "0      0  0.343658\n",
      "5      5  0.200000\n",
      "4      4  0.000000\n",
      "6      6  0.000000\n",
      "7      9       NaN\n"
     ]
    }
   ],
   "source": [
    "#trying to find coorelation among categorical features\n",
    "print(df[['Pclass', 'Survived']].groupby(['Pclass'], as_index=False).mean().sort_values(by='Survived', ascending=False))\n",
    "print('\\n\\n')\n",
    "#proves that females survived more\n",
    "print(df[['Sex', 'Survived']].groupby(['Sex'], as_index=False).mean().sort_values(by='Survived', ascending=False))\n",
    "print('\\n\\n')\n",
    "print(df[['SibSp', 'Survived']].groupby(['SibSp'], as_index=False).mean().sort_values(by='Survived', ascending=False))\n",
    "print('\\n\\n')\n",
    "print(df[['Parch', 'Survived']].groupby(['Parch'], as_index=False).mean().sort_values(by='Survived', ascending=False))"
   ]
  },
  {
   "cell_type": "code",
   "execution_count": 3,
   "metadata": {},
   "outputs": [
    {
     "data": {
      "text/plain": [
       "<seaborn.axisgrid.FacetGrid at 0x243ece126d8>"
      ]
     },
     "execution_count": 3,
     "metadata": {},
     "output_type": "execute_result"
    },
    {
     "data": {
      "image/png": "[encoded data removed]",
      "text/plain": [
       "<matplotlib.figure.Figure at 0x243ece12c50>"
      ]
     },
     "metadata": {},
     "output_type": "display_data"
    }
   ],
   "source": [
    "g = sns.FacetGrid(df, col='Survived')\n",
    "g.map(plt.hist,'Age', bins=20)\n",
    "#shows that infants and kids survived more\n",
    "#also shows that a large number of adults between age 20-40 did not make it"
   ]
  },
  {
   "cell_type": "code",
   "execution_count": 60,
   "metadata": {},
   "outputs": [
    {
     "data": {
      "text/plain": [
       "<seaborn.axisgrid.FacetGrid at 0x1ebd7ae4e80>"
      ]
     },
     "execution_count": 60,
     "metadata": {},
     "output_type": "execute_result"
    },
    {
     "data": {
      "image/png": "[encoded data removed]",
      "text/plain": [
       "<matplotlib.figure.Figure at 0x1ebd7ae4828>"
      ]
     },
     "metadata": {},
     "output_type": "display_data"
    }
   ],
   "source": [
    "grid = sns.FacetGrid(df, col='Survived', row='Pclass', size=2.2, aspect=1.6)\n",
    "grid.map(plt.hist, 'Age', alpha=.5, bins=20)"
   ]
  },
  {
   "cell_type": "code",
   "execution_count": 4,
   "metadata": {},
   "outputs": [],
   "source": [
    "#handling missing values\n",
    "df.isnull().sum()\n",
    "#filling the age column with mean age\n",
    "mn=df.Age.mean()\n",
    "df.Age.fillna(value=mn,inplace=True)\n",
    "#finally filling the embarked\n",
    "df.Embarked.fillna(value='S',inplace=True)\n",
    "df.isnull().sum()\n",
    "#converting age into numeric\n",
    "df.loc[df['Age']<=20,'Age']=0\n",
    "df.loc[(df['Age']>20) & (df['Age']<=40),'Age']=1\n",
    "df.loc[(df['Age']>40) & (df['Age']<=60),'Age']=2\n",
    "df.loc[(df['Age']>60) & (df['Age']<100),'Age']=3\n",
    "#creating new features\n",
    "df['FamilySize']=df['SibSp']+df['Parch']+1\n",
    "df['IsAlone']=0\n",
    "df.loc[df['FamilySize'] == 1,'IsAlone']=1\n",
    "df.drop(columns=['Parch','SibSp','FamilySize'],axis=0,inplace=True)\n",
    "#dropping more columns \n",
    "df.drop(columns=['Name','Fare','Ticket','PassengerId'],axis=0,inplace=True)\n",
    "#converting Embarked into numeric\n",
    "df.Embarked.unique()\n",
    "df.loc[df['Embarked']=='S','Embarked']=0\n",
    "df.loc[df['Embarked']=='C','Embarked']=1\n",
    "df.loc[df['Embarked']=='Q','Embarked']=2\n",
    "#converting Sex into numeric\n",
    "df.Sex.unique()\n",
    "df.loc[df['Sex']=='male','Sex']=0\n",
    "df.loc[df['Sex']=='female','Sex']=1\n",
    "#finally unappending train and test\n",
    "df_train=df.iloc[0:891,:]\n",
    "df_test=df.iloc[891:1309,:]"
   ]
  },
  {
   "cell_type": "code",
   "execution_count": 5,
   "metadata": {},
   "outputs": [],
   "source": [
    "#fitting our model\n",
    "X_train=df_train.drop(columns='Survived')\n",
    "Y_train=df_train.Survived\n",
    "X_test=df_test.drop(columns='Survived')\n",
    "model=tree.DecisionTreeClassifier()\n",
    "model.fit(X_train,Y_train)\n",
    "Y_pred=model.predict(X_test)\n",
    "Y_pred=Y_pred.astype(int)\n",
    "sub=pd.DataFrame({\n",
    "    \"PassengerId\": test[\"PassengerId\"],\n",
    "    \"Survived\":Y_pred\n",
    "})\n",
    "sub.to_csv('mysecondKaggle.csv',encoding='utf-8',index=False)"
   ]
  }
 ],
 "metadata": {
  "kernelspec": {
   "display_name": "Python 3",
   "language": "python",
   "name": "python3"
  },
  "language_info": {
   "codemirror_mode": {
    "name": "ipython",
    "version": 3
   },
   "file_extension": ".py",
   "mimetype": "text/x-python",
   "name": "python",
   "nbconvert_exporter": "python",
   "pygments_lexer": "ipython3",
   "version": "3.6.2"
  }
 },
 "nbformat": 4,
 "nbformat_minor": 2
}
